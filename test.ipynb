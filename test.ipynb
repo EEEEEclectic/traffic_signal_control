{
 "cells": [
  {
   "cell_type": "code",
   "execution_count": 7,
   "id": "initial_id",
   "metadata": {
    "ExecuteTime": {
     "end_time": "2024-12-03T08:14:16.623068Z",
     "start_time": "2024-12-03T08:14:16.602950Z"
    }
   },
   "outputs": [],
   "source": [
    "from sumo_rl.environment.env import SumoEnvironment"
   ]
  },
  {
   "cell_type": "code",
   "execution_count": 8,
   "id": "a74405aacfbf04d",
   "metadata": {
    "ExecuteTime": {
     "end_time": "2024-12-04T15:49:27.455641Z",
     "start_time": "2024-12-04T15:49:27.450385Z"
    }
   },
   "outputs": [
    {
     "ename": "TraCIException",
     "evalue": "Connection 'default' is already active.",
     "output_type": "error",
     "traceback": [
      "\u001b[0;31m---------------------------------------------------------------------------\u001b[0m",
      "\u001b[0;31mTraCIException\u001b[0m                            Traceback (most recent call last)",
      "Cell \u001b[0;32mIn[8], line 1\u001b[0m\n\u001b[0;32m----> 1\u001b[0m env \u001b[38;5;241m=\u001b[39m \u001b[43mSumoEnvironment\u001b[49m\u001b[43m(\u001b[49m\n\u001b[1;32m      2\u001b[0m \u001b[43m            \u001b[49m\u001b[43mnet_file\u001b[49m\u001b[38;5;241;43m=\u001b[39;49m\u001b[38;5;124;43m\"\u001b[39;49m\u001b[38;5;124;43msumo_rl/nets/RESCO/grid4x4/grid4x4.net.xml\u001b[39;49m\u001b[38;5;124;43m\"\u001b[39;49m\u001b[43m,\u001b[49m\n\u001b[1;32m      3\u001b[0m \u001b[43m            \u001b[49m\u001b[43mroute_file\u001b[49m\u001b[38;5;241;43m=\u001b[39;49m\u001b[38;5;124;43m\"\u001b[39;49m\u001b[38;5;124;43msumo_rl/nets/RESCO/grid4x4/grid4x4_1.rou.xml\u001b[39;49m\u001b[38;5;124;43m\"\u001b[39;49m\u001b[43m,\u001b[49m\n\u001b[1;32m      4\u001b[0m \u001b[43m            \u001b[49m\u001b[43mout_csv_name\u001b[49m\u001b[38;5;241;43m=\u001b[39;49m\u001b[38;5;28;43;01mNone\u001b[39;49;00m\u001b[43m,\u001b[49m\n\u001b[1;32m      5\u001b[0m \u001b[43m            \u001b[49m\u001b[43muse_gui\u001b[49m\u001b[38;5;241;43m=\u001b[39;49m\u001b[38;5;28;43;01mFalse\u001b[39;49;00m\u001b[43m,\u001b[49m\n\u001b[1;32m      6\u001b[0m \u001b[43m            \u001b[49m\u001b[43mnum_seconds\u001b[49m\u001b[38;5;241;43m=\u001b[39;49m\u001b[38;5;241;43m3000\u001b[39;49m\u001b[43m,\u001b[49m\n\u001b[1;32m      7\u001b[0m \u001b[43m            \u001b[49m\u001b[43mbegin_time\u001b[49m\u001b[38;5;241;43m=\u001b[39;49m\u001b[38;5;241;43m100\u001b[39;49m\u001b[43m,\u001b[49m\n\u001b[1;32m      8\u001b[0m \u001b[43m            \u001b[49m\u001b[43mfixed_ts\u001b[49m\u001b[38;5;241;43m=\u001b[39;49m\u001b[38;5;28;43;01mFalse\u001b[39;49;00m\u001b[43m,\u001b[49m\n\u001b[1;32m      9\u001b[0m \u001b[43m            \u001b[49m\u001b[43mreward_fn\u001b[49m\u001b[38;5;241;43m=\u001b[39;49m\u001b[38;5;124;43m\"\u001b[39;49m\u001b[38;5;124;43mweighted_wait_queue\u001b[39;49m\u001b[38;5;124;43m\"\u001b[39;49m\n\u001b[1;32m     10\u001b[0m \u001b[43m        \u001b[49m\u001b[43m)\u001b[49m\n",
      "File \u001b[0;32m/mnt/c/Users/Kelvin/Desktop/cs224w/project/traffic_signal_control/sumo_rl/environment/env.py:142\u001b[0m, in \u001b[0;36mSumoEnvironment.__init__\u001b[0;34m(self, net_file, route_file, out_csv_name, use_gui, virtual_display, begin_time, num_seconds, max_depart_delay, waiting_time_memory, time_to_teleport, delta_time, yellow_time, min_green, max_green, reward_fn, observation_class, add_system_info, add_per_agent_info, sumo_seed, fixed_ts, sumo_warnings, additional_sumo_cmd, render_mode)\u001b[0m\n\u001b[1;32m    139\u001b[0m \u001b[38;5;28mself\u001b[39m\u001b[38;5;241m.\u001b[39msumo \u001b[38;5;241m=\u001b[39m \u001b[38;5;28;01mNone\u001b[39;00m\n\u001b[1;32m    141\u001b[0m \u001b[38;5;28;01mif\u001b[39;00m LIBSUMO:\n\u001b[0;32m--> 142\u001b[0m     \u001b[43mtraci\u001b[49m\u001b[38;5;241;43m.\u001b[39;49m\u001b[43mstart\u001b[49m\u001b[43m(\u001b[49m\u001b[43m[\u001b[49m\u001b[43msumolib\u001b[49m\u001b[38;5;241;43m.\u001b[39;49m\u001b[43mcheckBinary\u001b[49m\u001b[43m(\u001b[49m\u001b[38;5;124;43m\"\u001b[39;49m\u001b[38;5;124;43msumo\u001b[39;49m\u001b[38;5;124;43m\"\u001b[39;49m\u001b[43m)\u001b[49m\u001b[43m,\u001b[49m\u001b[43m \u001b[49m\u001b[38;5;124;43m\"\u001b[39;49m\u001b[38;5;124;43m-n\u001b[39;49m\u001b[38;5;124;43m\"\u001b[39;49m\u001b[43m,\u001b[49m\u001b[43m \u001b[49m\u001b[38;5;28;43mself\u001b[39;49m\u001b[38;5;241;43m.\u001b[39;49m\u001b[43m_net\u001b[49m\u001b[43m]\u001b[49m\u001b[43m)\u001b[49m  \u001b[38;5;66;03m# Start only to retrieve traffic light information\u001b[39;00m\n\u001b[1;32m    143\u001b[0m     conn \u001b[38;5;241m=\u001b[39m traci\n\u001b[1;32m    144\u001b[0m \u001b[38;5;28;01melse\u001b[39;00m:\n",
      "File \u001b[0;32m~/miniconda3/envs/sumo_rl/lib/python3.10/site-packages/traci/main.py:139\u001b[0m, in \u001b[0;36mstart\u001b[0;34m(cmd, port, numRetries, label, verbose, traceFile, traceGetters, stdout, doSwitch)\u001b[0m\n\u001b[1;32m    124\u001b[0m \u001b[38;5;250m\u001b[39m\u001b[38;5;124;03m\"\"\"\u001b[39;00m\n\u001b[1;32m    125\u001b[0m \u001b[38;5;124;03mStart a sumo server using cmd, establish a connection to it and\u001b[39;00m\n\u001b[1;32m    126\u001b[0m \u001b[38;5;124;03mstore it under the given label. This method is not thread-safe.\u001b[39;00m\n\u001b[0;32m   (...)\u001b[0m\n\u001b[1;32m    136\u001b[0m \u001b[38;5;124;03m- stdout (iostream): where to pipe sumo process stdout\u001b[39;00m\n\u001b[1;32m    137\u001b[0m \u001b[38;5;124;03m\"\"\"\u001b[39;00m\n\u001b[1;32m    138\u001b[0m \u001b[38;5;28;01mif\u001b[39;00m connection\u001b[38;5;241m.\u001b[39mhas(label):\n\u001b[0;32m--> 139\u001b[0m     \u001b[38;5;28;01mraise\u001b[39;00m TraCIException(\u001b[38;5;124m\"\u001b[39m\u001b[38;5;124mConnection \u001b[39m\u001b[38;5;124m'\u001b[39m\u001b[38;5;132;01m%s\u001b[39;00m\u001b[38;5;124m'\u001b[39m\u001b[38;5;124m is already active.\u001b[39m\u001b[38;5;124m\"\u001b[39m \u001b[38;5;241m%\u001b[39m label)\n\u001b[1;32m    140\u001b[0m \u001b[38;5;28;01mwhile\u001b[39;00m numRetries \u001b[38;5;241m>\u001b[39m\u001b[38;5;241m=\u001b[39m \u001b[38;5;241m0\u001b[39m \u001b[38;5;129;01mand\u001b[39;00m \u001b[38;5;129;01mnot\u001b[39;00m connection\u001b[38;5;241m.\u001b[39mhas(label):\n\u001b[1;32m    141\u001b[0m     sumoPort \u001b[38;5;241m=\u001b[39m getFreeSocketPort() \u001b[38;5;28;01mif\u001b[39;00m port \u001b[38;5;129;01mis\u001b[39;00m \u001b[38;5;28;01mNone\u001b[39;00m \u001b[38;5;28;01melse\u001b[39;00m port\n",
      "\u001b[0;31mTraCIException\u001b[0m: Connection 'default' is already active."
     ]
    }
   ],
   "source": [
    "env = SumoEnvironment(\n",
    "            net_file=\"sumo_rl/nets/RESCO/grid4x4/grid4x4.net.xml\",\n",
    "            route_file=\"sumo_rl/nets/RESCO/grid4x4/grid4x4_1.rou.xml\",\n",
    "            out_csv_name=None,\n",
    "            use_gui=False,\n",
    "            num_seconds=3000,\n",
    "            begin_time=100,\n",
    "            fixed_ts=False,\n",
    "            reward_fn=\"weighted_wait_queue\"\n",
    "        )"
   ]
  },
  {
   "cell_type": "code",
   "execution_count": 4,
   "id": "db9e55368510dd10",
   "metadata": {},
   "outputs": [
    {
     "data": {
      "text/plain": [
       "{'A0': <sumo_rl.environment.traffic_signal.TrafficSignal at 0x7f1edcc9d150>,\n",
       " 'A1': <sumo_rl.environment.traffic_signal.TrafficSignal at 0x7f1edcc9d120>,\n",
       " 'A2': <sumo_rl.environment.traffic_signal.TrafficSignal at 0x7f1edcc9e350>,\n",
       " 'A3': <sumo_rl.environment.traffic_signal.TrafficSignal at 0x7f1edcc9e620>,\n",
       " 'B0': <sumo_rl.environment.traffic_signal.TrafficSignal at 0x7f1edcc20b50>,\n",
       " 'B1': <sumo_rl.environment.traffic_signal.TrafficSignal at 0x7f1edcc21960>,\n",
       " 'B2': <sumo_rl.environment.traffic_signal.TrafficSignal at 0x7f1edcc22740>,\n",
       " 'B3': <sumo_rl.environment.traffic_signal.TrafficSignal at 0x7f1edcc23520>,\n",
       " 'C0': <sumo_rl.environment.traffic_signal.TrafficSignal at 0x7f1edcc438b0>,\n",
       " 'C1': <sumo_rl.environment.traffic_signal.TrafficSignal at 0x7f1edcc41c60>,\n",
       " 'C2': <sumo_rl.environment.traffic_signal.TrafficSignal at 0x7f1edcc40e50>,\n",
       " 'C3': <sumo_rl.environment.traffic_signal.TrafficSignal at 0x7f1edcc40d90>,\n",
       " 'D0': <sumo_rl.environment.traffic_signal.TrafficSignal at 0x7f1edced9270>,\n",
       " 'D1': <sumo_rl.environment.traffic_signal.TrafficSignal at 0x7f1edceda080>,\n",
       " 'D2': <sumo_rl.environment.traffic_signal.TrafficSignal at 0x7f1edcedaef0>,\n",
       " 'D3': <sumo_rl.environment.traffic_signal.TrafficSignal at 0x7f1edcedbd30>}"
      ]
     },
     "execution_count": 4,
     "metadata": {},
     "output_type": "execute_result"
    }
   ],
   "source": [
    "env.traffic_signals"
   ]
  }
 ],
 "metadata": {
  "kernelspec": {
   "display_name": "Python 3 (ipykernel)",
   "language": "python",
   "name": "python3"
  },
  "language_info": {
   "codemirror_mode": {
    "name": "ipython",
    "version": 3
   },
   "file_extension": ".py",
   "mimetype": "text/x-python",
   "name": "python",
   "nbconvert_exporter": "python",
   "pygments_lexer": "ipython3",
   "version": "3.10.15"
  }
 },
 "nbformat": 4,
 "nbformat_minor": 5
}

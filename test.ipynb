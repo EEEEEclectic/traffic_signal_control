{
 "cells": [
  {
   "cell_type": "code",
   "id": "initial_id",
   "metadata": {
    "collapsed": true,
    "ExecuteTime": {
     "end_time": "2024-12-03T08:14:16.623068Z",
     "start_time": "2024-12-03T08:14:16.602950Z"
    }
   },
   "source": [
    "import pandas as pd\n",
    "\n",
    "metric_file_pth = \"results/my_result_conn0_ep9.csv\"\n",
    "df = pd.read_csv(metric_file_pth)\n",
    "print(df.tail())"
   ],
   "outputs": [
    {
     "name": "stdout",
     "output_type": "stream",
     "text": [
      "       step  system_total_stopped  system_total_waiting_time  \\\n",
      "585  2980.0                    26                     1190.0   \n",
      "586  2985.0                    27                     1098.0   \n",
      "587  2990.0                    27                     1169.0   \n",
      "588  2995.0                    24                     1038.0   \n",
      "589  3000.0                    23                     1039.0   \n",
      "\n",
      "     system_mean_waiting_time  system_mean_speed  A0_stopped  \\\n",
      "585                 18.030303           7.145374           1   \n",
      "586                 16.892308           6.464195           1   \n",
      "587                 17.191176           6.408014           0   \n",
      "588                 15.264706           6.758336           1   \n",
      "589                 15.507463           6.834567           0   \n",
      "\n",
      "     A0_accumulated_waiting_time  A0_average_speed  A1_stopped  \\\n",
      "585                          3.0          0.483868           1   \n",
      "586                          8.0          0.475256           1   \n",
      "587                          2.0          0.102536           1   \n",
      "588                          5.0          0.001227           2   \n",
      "589                          0.0          0.100282           1   \n",
      "\n",
      "     A1_accumulated_waiting_time  ...  D1_accumulated_waiting_time  \\\n",
      "585                         37.0  ...                         39.0   \n",
      "586                         42.0  ...                         44.0   \n",
      "587                         47.0  ...                          0.0   \n",
      "588                         54.0  ...                          0.0   \n",
      "589                         61.0  ...                          0.0   \n",
      "\n",
      "     D1_average_speed  D2_stopped  D2_accumulated_waiting_time  \\\n",
      "585               0.0           2                         86.0   \n",
      "586               0.0           1                         64.0   \n",
      "587               1.0           1                         67.0   \n",
      "588               1.0           0                          0.0   \n",
      "589               1.0           0                          0.0   \n",
      "\n",
      "     D2_average_speed  D3_stopped  D3_accumulated_waiting_time  \\\n",
      "585          0.474897           2                        470.0   \n",
      "586          0.562141           2                        480.0   \n",
      "587          0.000000           2                        490.0   \n",
      "588          1.000000           2                        500.0   \n",
      "589          0.979266           2                        510.0   \n",
      "\n",
      "     D3_average_speed  agents_total_stopped  \\\n",
      "585          0.303448                    26   \n",
      "586          0.322361                    27   \n",
      "587          0.372256                    27   \n",
      "588          0.305443                    24   \n",
      "589          0.311289                    23   \n",
      "\n",
      "     agents_total_accumulated_waiting_time  \n",
      "585                                 1237.0  \n",
      "586                                 1143.0  \n",
      "587                                 1211.0  \n",
      "588                                 1154.0  \n",
      "589                                 1083.0  \n",
      "\n",
      "[5 rows x 55 columns]\n"
     ]
    }
   ],
   "execution_count": 5
  },
  {
   "metadata": {
    "ExecuteTime": {
     "end_time": "2024-12-04T15:49:27.455641Z",
     "start_time": "2024-12-04T15:49:27.450385Z"
    }
   },
   "cell_type": "code",
   "source": [
    "import torch\n",
    "t1 = torch.tensor([[1,1,3],[4,4,6]])\n",
    "print(\"t1.shape\", t1.shape)\n",
    "print(t1)\n",
    "t1_unique = torch.unique(t1, dim=1)\n",
    "print(t1_unique)"
   ],
   "id": "a74405aacfbf04d",
   "outputs": [
    {
     "name": "stdout",
     "output_type": "stream",
     "text": [
      "t1.shape torch.Size([2, 3])\n",
      "tensor([[1, 1, 3],\n",
      "        [4, 4, 6]])\n",
      "tensor([[1, 3],\n",
      "        [4, 6]])\n"
     ]
    }
   ],
   "execution_count": 12
  },
  {
   "metadata": {},
   "cell_type": "code",
   "outputs": [],
   "execution_count": null,
   "source": "",
   "id": "db9e55368510dd10"
  }
 ],
 "metadata": {
  "kernelspec": {
   "display_name": "Python 3",
   "language": "python",
   "name": "python3"
  },
  "language_info": {
   "codemirror_mode": {
    "name": "ipython",
    "version": 2
   },
   "file_extension": ".py",
   "mimetype": "text/x-python",
   "name": "python",
   "nbconvert_exporter": "python",
   "pygments_lexer": "ipython2",
   "version": "2.7.6"
  }
 },
 "nbformat": 4,
 "nbformat_minor": 5
}

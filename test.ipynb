{
 "cells": [
  {
   "cell_type": "code",
   "execution_count": null,
   "metadata": {},
   "outputs": [],
   "source": [
    "import gymnasium as gym\n",
    "import sumo_rl\n",
    "import os\n",
    "env = gym.make('sumo-rl-v0',\n",
    "                net_file='./sumo_rl/nets/RESCO/grid4x4/grid4x4.net.xml',\n",
    "                route_file='./sumo_rl/nets/RESCO/grid4x4/grid4x4_1.rou.xml',\n",
    "                out_csv_name='./output_csv/output.csv',\n",
    "                use_gui=True,\n",
    "                num_seconds=100000)\n",
    "obs, info = env.reset()\n",
    "done = False\n",
    "# while not done:\n",
    "#     next_obs, reward, terminated, truncated, info = env.step(env.action_space.sample())\n",
    "#     done = terminated or truncated"
   ]
  },
  {
   "cell_type": "code",
   "execution_count": null,
   "metadata": {},
   "outputs": [],
   "source": []
  }
 ],
 "metadata": {
  "kernelspec": {
   "display_name": "Python 3 (ipykernel)",
   "language": "python",
   "name": "python3"
  },
  "language_info": {
   "codemirror_mode": {
    "name": "ipython",
    "version": 3
   },
   "file_extension": ".py",
   "mimetype": "text/x-python",
   "name": "python",
   "nbconvert_exporter": "python",
   "pygments_lexer": "ipython3",
   "version": "3.8.10"
  }
 },
 "nbformat": 4,
 "nbformat_minor": 4
}
